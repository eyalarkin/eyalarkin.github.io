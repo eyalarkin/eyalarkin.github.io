{
 "cells": [
  {
   "cell_type": "markdown",
   "metadata": {},
   "source": [
    "### WELCOME TO OUR ML-EXPLORATION & TUTORIAL! "
   ]
  },
  {
   "cell_type": "markdown",
   "metadata": {},
   "source": [
    "TITLE: Music on The Mental"
   ]
  },
  {
   "cell_type": "markdown",
   "metadata": {},
   "source": [
    "CLASS: Fall 2024 Data Science Project"
   ]
  },
  {
   "cell_type": "markdown",
   "metadata": {},
   "source": [
    "BY: Eric Hay, Eyal Arkin, Joseph Ettinger"
   ]
  },
  {
   "cell_type": "markdown",
   "metadata": {},
   "source": [
    "CONTRIBUTIONS (BASED ON THE GIVEN STEPS): \n",
    "\n",
    "[***PART A, Project Idea - Joseph Ettinger***] The first step in the process was generating an idea. As someone with Obsessive-Compulsive Disorder and a deep love for music, I was struck by the idea of exploring the relationship between the two after coming across a really interesting dataset on Kaggle. After all, listening to music daily as much as I do must have some effect on my mental health, right? If so, to what extent does it impact me? Which genres resonate most with my mind? There was so much to uncover. Since this topic resonates deeply with everyone on some level, my teammates were excited to jump on board. \n",
    "\n",
    "[***PART B, Dataset Curation & Preprocessing - Eric Hay, Eyal Arkin, & Joseph Ettinger***] The aforementioned dataset became the foundation of our project. It included all the necessary features and data points to explore potential relationships and, ultimately, train a more advanced machine learning model. Our first step was importing the dataset, followed by applying various cleaning techniques to preprocess the data before diving into exploration. \n",
    "\n",
    "[***PART C, Data Exploration & Summary Statistics - Eric Hay & Eyal Arkin***] Next, we conducted initial explorations of the data. This step was crucial to uncovering potential relationships, identifying assumptions that might not hold true, and gaining a better understanding of the dataset. These early discoveries and summary statistics enabled us to focus on a more detailed and sophisticated analysis of the data, one that leveraged machine learning techniques. \n",
    "\n",
    "[***PART D, ML Algorithm Design/Development - Eric Hay, Eyal Arkin, & Joseph Ettinger***] Before we could start using machine learning models, we first needed to determine what type of model to use, why it was the best fit, and how we would implement it. This stage required deep collaboration as we worked through a variety of critical questions and developed our algorithm. For instance, was this a classification problem? If so, what implications would that have for feature engineering? Would we need to convert quantitative data into categorical data to make it compatible with a decision tree? And, most importantly, was a decision tree even the best approach? These are just a few of the many questions we tackled. Ultimately, this stage was all about gathering the necessary information, strategizing, and conducting feature engineering before taking action...much like aiming before taking the shot. \n",
    "\n",
    "[***PART E, ML Algorithm Training & Test Data Analysis - Eric Hay & Eyal Arkin***] Once our data was fully prepared with the selected features and our procedure was finalized, it was time to train the model. We utilized various Python libraries, tools, and functions to train and test the data, fully immersing ourselves in the machine learning process. Throughout this phase, we continually questioned our approach: Were we at risk of overfitting, and how could we address it? Were we focusing on the right features? Doubt is natural in such a complex process, but we found that the deeper we explored, the more valuable insights we uncovered. \n",
    "\n",
    "[***PART F, Visualization, Result Analysis, Conclusion - Eric Hay, Eyal Arkin, & Joseph Ettinger***] Once our model was trained, we could apply it, visualize the results, and draw conclusions from our findings. This was, without a doubt, the most meaningful part of the process, as it allowed us to uncover insights and find purpose in the work we were doing. Whether the results supported our original hypothesis or contradicted it, they always led us to valuable discoveries. That’s the beauty of working with machine learning—you might not always get the outcomes you expect, but you’ll always uncover insights that deepen your understanding and guide you toward further exploration. \n",
    "\n",
    "[***PART G, Visualization, Result Analysis, Conclusion - Joseph Ettinger***] After completing our work, we created this final tutorial. While the goal of machine learning is to uncover insights about a topic, its true value lies in effectively sharing those insights with others. If the findings can’t be communicated clearly, concisely, and elegantly, the impact of the research is greatly diminished. Machine learning helps us discover meaning, but it’s the researcher’s responsibility to make that knowledge accessible and actionable for others."
   ]
  },
  {
   "cell_type": "markdown",
   "metadata": {},
   "source": [
    "### Introduction"
   ]
  },
  {
   "cell_type": "markdown",
   "metadata": {},
   "source": [
    "![Music and mental health meme](320_MEME.png)\n"
   ]
  },
  {
   "cell_type": "markdown",
   "metadata": {},
   "source": [
    "Music has long been recognized as a powerful force in shaping emotions, focus, and mental well-being. For me, as someone with Obsessive-Compulsive Disorder (OCD), this connection felt especially personal, sparking the idea to explore how music might influence mental health. Could my daily engagement with music be affecting my mental health? If so, how? Which genres might resonate most with my brain? These questions formed the foundation of this project. However, my personal connection to the topic wasn’t the only driving force. My teammates, each with their own unique relationships to music and mental health, quickly saw the value in this exploration. They, too, recognized the potential for broader relevance. We came to realize that music’s effect on mental health isn’t just an individual experience but a universally relevant topic.\n",
    "\n",
    "Our goal, therefore, was to leverage machine learning to uncover insights into how music may influence mental health, hoping to provide a clearer understanding of this dynamic relationship. Mental health affects us all, and music is something that universally connects us. By analyzing data, we aimed to uncover patterns that could contribute to more personalized approaches to self-care or therapeutic interventions.\n",
    "\n",
    "The process was both technical and exploratory. We moved through data preparation, feature engineering, and model training with the goal of answering key questions with clarity and precision. Our work emphasizes not only the discovery of insights but also the importance of communicating those findings in an accessible and meaningful way.\n",
    "\n",
    "This tutorial represents the culmination of our project, detailing the methods we employed and the insights we gained. Through sharing our approach, we hope to encourage others to explore similar intersections of data science and human experience, showing how machine learning can help tackle universally relevant questions."
   ]
  },
  {
   "cell_type": "markdown",
   "metadata": {},
   "source": [
    "### Data Curation\n",
    "\n",
    "DATASOURCE: Kaggle "
   ]
  },
  {
   "cell_type": "markdown",
   "metadata": {},
   "source": [
    "TITLE: Mental Health & Music Relationship Analysis & EDA"
   ]
  },
  {
   "cell_type": "markdown",
   "metadata": {},
   "source": [
    "LINK: https://www.kaggle.com/code/melissamonfared/mental-health-music-relationship-analysis-eda"
   ]
  },
  {
   "cell_type": "markdown",
   "metadata": {},
   "source": [
    "Our dataset, sourced from Kaggle, focuses on exploring the relationship between mental health and music preferences. It includes fields such as age, primary streaming service, hours of music consumption per day, favorite genre, whether the individual listens while working, and so much more! Additionally, it gathers details about musical background, such as whether the person plays an instrument or composes music. This diverse set of features allows for a comprehensive analysis of how music habits and preferences correlate with mental well-being. By curating this dataset, we aimed to ensure it provided meaningful insights while offering enough variability to support our exploration and machine learning efforts."
   ]
  },
  {
   "cell_type": "code",
   "execution_count": 15,
   "metadata": {
    "colab": {
     "base_uri": "https://localhost:8080/",
     "height": 694
    },
    "id": "p2EoY4xj913t",
    "outputId": "edf2d4da-38f4-4b14-f6c1-abd92c2f2942"
   },
   "outputs": [
    {
     "data": {
      "text/html": [
       "<div>\n",
       "<style scoped>\n",
       "    .dataframe tbody tr th:only-of-type {\n",
       "        vertical-align: middle;\n",
       "    }\n",
       "\n",
       "    .dataframe tbody tr th {\n",
       "        vertical-align: top;\n",
       "    }\n",
       "\n",
       "    .dataframe thead th {\n",
       "        text-align: right;\n",
       "    }\n",
       "</style>\n",
       "<table border=\"1\" class=\"dataframe\">\n",
       "  <thead>\n",
       "    <tr style=\"text-align: right;\">\n",
       "      <th></th>\n",
       "      <th>Timestamp</th>\n",
       "      <th>Age</th>\n",
       "      <th>Primary streaming service</th>\n",
       "      <th>Hours per day</th>\n",
       "      <th>While working</th>\n",
       "      <th>Instrumentalist</th>\n",
       "      <th>Composer</th>\n",
       "      <th>Fav genre</th>\n",
       "      <th>Exploratory</th>\n",
       "      <th>Foreign languages</th>\n",
       "      <th>...</th>\n",
       "      <th>Pop</th>\n",
       "      <th>R&amp;B</th>\n",
       "      <th>Rap</th>\n",
       "      <th>Rock</th>\n",
       "      <th>Video game music</th>\n",
       "      <th>Anxiety</th>\n",
       "      <th>Depression</th>\n",
       "      <th>Insomnia</th>\n",
       "      <th>OCD</th>\n",
       "      <th>Music effects</th>\n",
       "    </tr>\n",
       "  </thead>\n",
       "  <tbody>\n",
       "    <tr>\n",
       "      <th>0</th>\n",
       "      <td>2022-08-27 19:29:02</td>\n",
       "      <td>18</td>\n",
       "      <td>Spotify</td>\n",
       "      <td>3.0</td>\n",
       "      <td>Yes</td>\n",
       "      <td>Yes</td>\n",
       "      <td>Yes</td>\n",
       "      <td>Latin</td>\n",
       "      <td>Yes</td>\n",
       "      <td>Yes</td>\n",
       "      <td>...</td>\n",
       "      <td>Very frequently</td>\n",
       "      <td>Sometimes</td>\n",
       "      <td>Very frequently</td>\n",
       "      <td>Never</td>\n",
       "      <td>Sometimes</td>\n",
       "      <td>3.0</td>\n",
       "      <td>0.0</td>\n",
       "      <td>1.0</td>\n",
       "      <td>0.0</td>\n",
       "      <td>No effect</td>\n",
       "    </tr>\n",
       "    <tr>\n",
       "      <th>1</th>\n",
       "      <td>2022-08-27 19:57:31</td>\n",
       "      <td>63</td>\n",
       "      <td>Pandora</td>\n",
       "      <td>1.5</td>\n",
       "      <td>Yes</td>\n",
       "      <td>No</td>\n",
       "      <td>No</td>\n",
       "      <td>Rock</td>\n",
       "      <td>Yes</td>\n",
       "      <td>No</td>\n",
       "      <td>...</td>\n",
       "      <td>Sometimes</td>\n",
       "      <td>Sometimes</td>\n",
       "      <td>Rarely</td>\n",
       "      <td>Very frequently</td>\n",
       "      <td>Rarely</td>\n",
       "      <td>7.0</td>\n",
       "      <td>2.0</td>\n",
       "      <td>2.0</td>\n",
       "      <td>1.0</td>\n",
       "      <td>No effect</td>\n",
       "    </tr>\n",
       "    <tr>\n",
       "      <th>2</th>\n",
       "      <td>2022-08-27 21:28:18</td>\n",
       "      <td>18</td>\n",
       "      <td>Spotify</td>\n",
       "      <td>4.0</td>\n",
       "      <td>No</td>\n",
       "      <td>No</td>\n",
       "      <td>No</td>\n",
       "      <td>Video game music</td>\n",
       "      <td>No</td>\n",
       "      <td>Yes</td>\n",
       "      <td>...</td>\n",
       "      <td>Rarely</td>\n",
       "      <td>Never</td>\n",
       "      <td>Rarely</td>\n",
       "      <td>Rarely</td>\n",
       "      <td>Very frequently</td>\n",
       "      <td>7.0</td>\n",
       "      <td>7.0</td>\n",
       "      <td>10.0</td>\n",
       "      <td>2.0</td>\n",
       "      <td>No effect</td>\n",
       "    </tr>\n",
       "    <tr>\n",
       "      <th>3</th>\n",
       "      <td>2022-08-27 21:40:40</td>\n",
       "      <td>61</td>\n",
       "      <td>YouTube Music</td>\n",
       "      <td>2.5</td>\n",
       "      <td>Yes</td>\n",
       "      <td>No</td>\n",
       "      <td>Yes</td>\n",
       "      <td>Jazz</td>\n",
       "      <td>Yes</td>\n",
       "      <td>Yes</td>\n",
       "      <td>...</td>\n",
       "      <td>Sometimes</td>\n",
       "      <td>Sometimes</td>\n",
       "      <td>Never</td>\n",
       "      <td>Never</td>\n",
       "      <td>Never</td>\n",
       "      <td>9.0</td>\n",
       "      <td>7.0</td>\n",
       "      <td>3.0</td>\n",
       "      <td>3.0</td>\n",
       "      <td>Improve</td>\n",
       "    </tr>\n",
       "    <tr>\n",
       "      <th>4</th>\n",
       "      <td>2022-08-27 21:54:47</td>\n",
       "      <td>18</td>\n",
       "      <td>Spotify</td>\n",
       "      <td>4.0</td>\n",
       "      <td>Yes</td>\n",
       "      <td>No</td>\n",
       "      <td>No</td>\n",
       "      <td>R&amp;B</td>\n",
       "      <td>Yes</td>\n",
       "      <td>No</td>\n",
       "      <td>...</td>\n",
       "      <td>Sometimes</td>\n",
       "      <td>Very frequently</td>\n",
       "      <td>Very frequently</td>\n",
       "      <td>Never</td>\n",
       "      <td>Rarely</td>\n",
       "      <td>7.0</td>\n",
       "      <td>2.0</td>\n",
       "      <td>5.0</td>\n",
       "      <td>9.0</td>\n",
       "      <td>Improve</td>\n",
       "    </tr>\n",
       "    <tr>\n",
       "      <th>...</th>\n",
       "      <td>...</td>\n",
       "      <td>...</td>\n",
       "      <td>...</td>\n",
       "      <td>...</td>\n",
       "      <td>...</td>\n",
       "      <td>...</td>\n",
       "      <td>...</td>\n",
       "      <td>...</td>\n",
       "      <td>...</td>\n",
       "      <td>...</td>\n",
       "      <td>...</td>\n",
       "      <td>...</td>\n",
       "      <td>...</td>\n",
       "      <td>...</td>\n",
       "      <td>...</td>\n",
       "      <td>...</td>\n",
       "      <td>...</td>\n",
       "      <td>...</td>\n",
       "      <td>...</td>\n",
       "      <td>...</td>\n",
       "      <td>...</td>\n",
       "    </tr>\n",
       "    <tr>\n",
       "      <th>731</th>\n",
       "      <td>2022-10-30 14:37:28</td>\n",
       "      <td>17</td>\n",
       "      <td>Spotify</td>\n",
       "      <td>2.0</td>\n",
       "      <td>Yes</td>\n",
       "      <td>Yes</td>\n",
       "      <td>No</td>\n",
       "      <td>Rock</td>\n",
       "      <td>Yes</td>\n",
       "      <td>Yes</td>\n",
       "      <td>...</td>\n",
       "      <td>Very frequently</td>\n",
       "      <td>Never</td>\n",
       "      <td>Rarely</td>\n",
       "      <td>Very frequently</td>\n",
       "      <td>Never</td>\n",
       "      <td>7.0</td>\n",
       "      <td>6.0</td>\n",
       "      <td>0.0</td>\n",
       "      <td>9.0</td>\n",
       "      <td>Improve</td>\n",
       "    </tr>\n",
       "    <tr>\n",
       "      <th>732</th>\n",
       "      <td>2022-11-01 22:26:42</td>\n",
       "      <td>18</td>\n",
       "      <td>Spotify</td>\n",
       "      <td>1.0</td>\n",
       "      <td>Yes</td>\n",
       "      <td>Yes</td>\n",
       "      <td>No</td>\n",
       "      <td>Pop</td>\n",
       "      <td>Yes</td>\n",
       "      <td>Yes</td>\n",
       "      <td>...</td>\n",
       "      <td>Very frequently</td>\n",
       "      <td>Never</td>\n",
       "      <td>Never</td>\n",
       "      <td>Sometimes</td>\n",
       "      <td>Sometimes</td>\n",
       "      <td>3.0</td>\n",
       "      <td>2.0</td>\n",
       "      <td>2.0</td>\n",
       "      <td>5.0</td>\n",
       "      <td>Improve</td>\n",
       "    </tr>\n",
       "    <tr>\n",
       "      <th>733</th>\n",
       "      <td>2022-11-03 23:24:38</td>\n",
       "      <td>19</td>\n",
       "      <td>Other streaming service</td>\n",
       "      <td>6.0</td>\n",
       "      <td>Yes</td>\n",
       "      <td>No</td>\n",
       "      <td>Yes</td>\n",
       "      <td>Rap</td>\n",
       "      <td>Yes</td>\n",
       "      <td>No</td>\n",
       "      <td>...</td>\n",
       "      <td>Sometimes</td>\n",
       "      <td>Sometimes</td>\n",
       "      <td>Sometimes</td>\n",
       "      <td>Rarely</td>\n",
       "      <td>Rarely</td>\n",
       "      <td>2.0</td>\n",
       "      <td>2.0</td>\n",
       "      <td>2.0</td>\n",
       "      <td>2.0</td>\n",
       "      <td>Improve</td>\n",
       "    </tr>\n",
       "    <tr>\n",
       "      <th>734</th>\n",
       "      <td>2022-11-04 17:31:47</td>\n",
       "      <td>19</td>\n",
       "      <td>Spotify</td>\n",
       "      <td>5.0</td>\n",
       "      <td>Yes</td>\n",
       "      <td>Yes</td>\n",
       "      <td>No</td>\n",
       "      <td>Classical</td>\n",
       "      <td>No</td>\n",
       "      <td>No</td>\n",
       "      <td>...</td>\n",
       "      <td>Never</td>\n",
       "      <td>Never</td>\n",
       "      <td>Never</td>\n",
       "      <td>Never</td>\n",
       "      <td>Sometimes</td>\n",
       "      <td>2.0</td>\n",
       "      <td>3.0</td>\n",
       "      <td>2.0</td>\n",
       "      <td>1.0</td>\n",
       "      <td>Improve</td>\n",
       "    </tr>\n",
       "    <tr>\n",
       "      <th>735</th>\n",
       "      <td>2022-11-09 01:55:20</td>\n",
       "      <td>29</td>\n",
       "      <td>YouTube Music</td>\n",
       "      <td>2.0</td>\n",
       "      <td>Yes</td>\n",
       "      <td>No</td>\n",
       "      <td>No</td>\n",
       "      <td>Hip hop</td>\n",
       "      <td>Yes</td>\n",
       "      <td>Yes</td>\n",
       "      <td>...</td>\n",
       "      <td>Sometimes</td>\n",
       "      <td>Very frequently</td>\n",
       "      <td>Very frequently</td>\n",
       "      <td>Very frequently</td>\n",
       "      <td>Rarely</td>\n",
       "      <td>2.0</td>\n",
       "      <td>2.0</td>\n",
       "      <td>2.0</td>\n",
       "      <td>5.0</td>\n",
       "      <td>Improve</td>\n",
       "    </tr>\n",
       "  </tbody>\n",
       "</table>\n",
       "<p>732 rows × 32 columns</p>\n",
       "</div>"
      ],
      "text/plain": [
       "              Timestamp  Age Primary streaming service  Hours per day  \\\n",
       "0   2022-08-27 19:29:02   18                   Spotify            3.0   \n",
       "1   2022-08-27 19:57:31   63                   Pandora            1.5   \n",
       "2   2022-08-27 21:28:18   18                   Spotify            4.0   \n",
       "3   2022-08-27 21:40:40   61             YouTube Music            2.5   \n",
       "4   2022-08-27 21:54:47   18                   Spotify            4.0   \n",
       "..                  ...  ...                       ...            ...   \n",
       "731 2022-10-30 14:37:28   17                   Spotify            2.0   \n",
       "732 2022-11-01 22:26:42   18                   Spotify            1.0   \n",
       "733 2022-11-03 23:24:38   19   Other streaming service            6.0   \n",
       "734 2022-11-04 17:31:47   19                   Spotify            5.0   \n",
       "735 2022-11-09 01:55:20   29             YouTube Music            2.0   \n",
       "\n",
       "    While working Instrumentalist Composer         Fav genre Exploratory  \\\n",
       "0             Yes             Yes      Yes             Latin         Yes   \n",
       "1             Yes              No       No              Rock         Yes   \n",
       "2              No              No       No  Video game music          No   \n",
       "3             Yes              No      Yes              Jazz         Yes   \n",
       "4             Yes              No       No               R&B         Yes   \n",
       "..            ...             ...      ...               ...         ...   \n",
       "731           Yes             Yes       No              Rock         Yes   \n",
       "732           Yes             Yes       No               Pop         Yes   \n",
       "733           Yes              No      Yes               Rap         Yes   \n",
       "734           Yes             Yes       No         Classical          No   \n",
       "735           Yes              No       No           Hip hop         Yes   \n",
       "\n",
       "    Foreign languages  ...              Pop              R&B              Rap  \\\n",
       "0                 Yes  ...  Very frequently        Sometimes  Very frequently   \n",
       "1                  No  ...        Sometimes        Sometimes           Rarely   \n",
       "2                 Yes  ...           Rarely            Never           Rarely   \n",
       "3                 Yes  ...        Sometimes        Sometimes            Never   \n",
       "4                  No  ...        Sometimes  Very frequently  Very frequently   \n",
       "..                ...  ...              ...              ...              ...   \n",
       "731               Yes  ...  Very frequently            Never           Rarely   \n",
       "732               Yes  ...  Very frequently            Never            Never   \n",
       "733                No  ...        Sometimes        Sometimes        Sometimes   \n",
       "734                No  ...            Never            Never            Never   \n",
       "735               Yes  ...        Sometimes  Very frequently  Very frequently   \n",
       "\n",
       "                Rock Video game music Anxiety Depression Insomnia  OCD  \\\n",
       "0              Never        Sometimes     3.0        0.0      1.0  0.0   \n",
       "1    Very frequently           Rarely     7.0        2.0      2.0  1.0   \n",
       "2             Rarely  Very frequently     7.0        7.0     10.0  2.0   \n",
       "3              Never            Never     9.0        7.0      3.0  3.0   \n",
       "4              Never           Rarely     7.0        2.0      5.0  9.0   \n",
       "..               ...              ...     ...        ...      ...  ...   \n",
       "731  Very frequently            Never     7.0        6.0      0.0  9.0   \n",
       "732        Sometimes        Sometimes     3.0        2.0      2.0  5.0   \n",
       "733           Rarely           Rarely     2.0        2.0      2.0  2.0   \n",
       "734            Never        Sometimes     2.0        3.0      2.0  1.0   \n",
       "735  Very frequently           Rarely     2.0        2.0      2.0  5.0   \n",
       "\n",
       "    Music effects  \n",
       "0       No effect  \n",
       "1       No effect  \n",
       "2       No effect  \n",
       "3         Improve  \n",
       "4         Improve  \n",
       "..            ...  \n",
       "731       Improve  \n",
       "732       Improve  \n",
       "733       Improve  \n",
       "734       Improve  \n",
       "735       Improve  \n",
       "\n",
       "[732 rows x 32 columns]"
      ]
     },
     "execution_count": 15,
     "metadata": {},
     "output_type": "execute_result"
    }
   ],
   "source": [
    "import pandas as pd\n",
    "import numpy as np\n",
    "import seaborn as sns\n",
    "import matplotlib.pyplot as plt\n",
    "import scipy.stats as stats # same as from scipy import stats\n",
    "from collections import defaultdict\n",
    "\n",
    "df = pd.read_csv('mxmh_survey_results.csv')\n",
    "# Converting the Date to a datetime type\n",
    "df['Timestamp'] = pd.to_datetime(df['Timestamp'])\n",
    "# converting Age to an int type\n",
    "df['Age'] = df['Age'].fillna(0).astype(int)\n",
    "df['Music effects'] = df['Music effects'].fillna('No effect') # The ASSUMPTION is no effect if it is an NaN value\n",
    "# Eliminate entries where Hours per Day >= 20 as we assume these are unreliable/fake entries\n",
    "df = df[df['Hours per day'] < 20]\n",
    "df = df.drop('Permissions', axis=1)\n",
    "df = df.rename(columns={\n",
    "    'Frequency [Classical]': 'Classical',\n",
    "    'Frequency [Country]': 'Country',\n",
    "    'Frequency [EDM]': 'EDM',\n",
    "    'Frequency [Folk]': 'Folk', \n",
    "    'Frequency [Gospel]': 'Gospel' ,\n",
    "    'Frequency [Hip hop]': 'Hip hop' ,\n",
    "    'Frequency [Jazz]': 'Jazz' ,\n",
    "    'Frequency [K pop]': 'K pop',\n",
    "    'Frequency [Latin]': 'Latin' ,\n",
    "    'Frequency [Lofi]' : 'Lofi',\n",
    "    'Frequency [Metal]' : 'Metal',\n",
    "    'Frequency [Pop]' : 'Pop',\n",
    "    'Frequency [R&B]' : 'R&B',\n",
    "    'Frequency [Rap]' : 'Rap',\n",
    "    'Frequency [Rock]' : 'Rock',\n",
    "    'Frequency [Video game music]' : 'Video game music'\n",
    "})\n",
    "df"
   ]
  },
  {
   "cell_type": "markdown",
   "metadata": {
    "id": "hT3fyqDl-Ezm"
   },
   "source": [
    "### Exploratory Data Analysis (EDA)"
   ]
  },
  {
   "cell_type": "markdown",
   "metadata": {},
   "source": [
    "Exploratory data analysis (EDA) serves as a critical step in any data-driven project, as it helps us uncover patterns, identify relationships, and validate assumptions before diving into more complex analyses. After curating our dataset, performing EDA allows us to gain a deeper understanding of the data's structure, distributions, and potential anomalies. By summarizing key statistics, visualizing relationships, and investigating correlations between variables, we can pinpoint trends that might inform our study and refine our approach. In this project, EDA is particularly essential for uncovering connections between music habits and mental health, setting the foundation for robust insights and further machine learning applications."
   ]
  },
  {
   "cell_type": "markdown",
   "metadata": {
    "id": "T0gC_J7z-bpM"
   },
   "source": [
    "### EDA Conclusion 1\n",
    "\n",
    "We explored the relationship between the number of hours spent listening to music per day and the reported levels of depression. Our analysis revealed a negligible positive correlation between these variables, as indicated by a correlation coefficient of approximately 0.14. This result was somewhat unexpected, as we initially hypothesized a slight negative correlation—assuming that listening to more music might help alleviate poor mental health. However, the data suggests otherwise, challenging our assumption and emphasizing the complexity of this relationship.\n",
    "\n",
    "Correlation Coefficient = ~0.14\n"
   ]
  },
  {
   "cell_type": "code",
   "execution_count": 16,
   "metadata": {
    "colab": {
     "base_uri": "https://localhost:8080/",
     "height": 489
    },
    "id": "0yUTJdWP-GTl",
    "outputId": "77a63b59-2ccf-487a-8b7b-bca3376910b0"
   },
   "outputs": [
    {
     "name": "stdout",
     "output_type": "stream",
     "text": [
      "The correlation coefficient between the \"Hours per day\" and \"Depression\" is: 0.14093364959351967\n"
     ]
    },
    {
     "data": {
      "image/png": "[encoded data removed]",
      "text/plain": [
       "<Figure size 640x480 with 1 Axes>"
      ]
     },
     "metadata": {},
     "output_type": "display_data"
    }
   ],
   "source": [
    "\n",
    "# Correlation coefficient to see how hours listening to music per day and depression may be linked\n",
    "correlation = df['Hours per day'].corr(df['Depression'])\n",
    "print(f'The correlation coefficient between the \"Hours per day\" and \"Depression\" is: {correlation}')\n",
    "\n",
    "plt.scatter(df['Hours per day'], df['Depression'])\n",
    "plt.xlabel(\"Hours Listening to Music Per Day\")\n",
    "plt.ylabel(\"Reported Depression\")\n",
    "plt.title(\"Hours Listening to Music per day vs. Depression\")\n",
    "plt.show()\n"
   ]
  },
  {
   "cell_type": "markdown",
   "metadata": {
    "id": "OZCGtSIK-rqe"
   },
   "source": [
    "### EDA Conclusion 2\n",
    "\n",
    "Here, we ran a hypothesis test on the data.\n",
    "\n",
    "**Null Hypothesis**: There is no correlation between genre of music and effect on listener's mental health.\n",
    "\n",
    "**Alternate Hypothesis**: There is a correlation between genre of music and its effect on the listener's mental health.\n",
    "\n",
    "After creating a contingency table and running a Chi<sup>2</sup> Test, we determined that the p value of such a test was ~6.476e<sup>-6</sup> which is approximately 0.01. As a result of such a low p-value, it is fair to reject the null hypothesis and conclude that there is some correlation between genre of music and effect on listener's mental health. Below, we have displayed a graph showing the respondent's selected genre of music on the x-axis, with the y-axis representing the count of respondents who replied either `Improve`, `No effect`, or `Worsen`\n"
   ]
  },
  {
   "cell_type": "code",
   "execution_count": 17,
   "metadata": {
    "colab": {
     "base_uri": "https://localhost:8080/",
     "height": 582
    },
    "id": "0dF9FKF1-KV5",
    "outputId": "0953fc9b-5f32-4468-90fc-00ace97dd9e6"
   },
   "outputs": [
    {
     "name": "stdout",
     "output_type": "stream",
     "text": [
      "P Value of Chi2 Test: 0.1354392939694708\n"
     ]
    },
    {
     "data": {
      "image/png": "[encoded data removed]",
      "text/plain": [
       "<Figure size 640x480 with 1 Axes>"
      ]
     },
     "metadata": {},
     "output_type": "display_data"
    }
   ],
   "source": [
    "cont_table = pd.crosstab(df['Fav genre'], df['Music effects'])\n",
    "\n",
    "chi2, p, dof, expected = stats.chi2_contingency(cont_table)\n",
    "print(f'P Value of Chi2 Test: {p}')\n",
    "\n",
    "cont_table['Improve'].plot(kind='bar', color='green', position=1, width=0.33, label='Improve')\n",
    "cont_table['No effect'].plot(kind='bar', color='blue', position=0.5, width=0.33, label='No effect')\n",
    "cont_table['Worsen'].plot(kind='bar', color='red', position=0, width=0.33, label='Worsen')\n",
    "plt.legend(title='Effect', labels=['Improve', 'No effect', 'Worsen'])\n",
    "\n",
    "plt.show()"
   ]
  },
  {
   "cell_type": "markdown",
   "metadata": {
    "id": "I56_b_ag-cZP"
   },
   "source": [
    "### EDA Conclusion 3\n",
    "\n",
    "For this part of our exploration we will be pursuing an interest in the relationship between THE EFFECT THAT MUSIC HAS ONE'S MENTAL HEALTH AND THAT INDIVIDUAL'S DEGREE OF OCD SEVERITY...This is an interesting area of exploration because OCD is a disorder that varies tremendously in terms of severity and so learning about the relationship between these different types of individuals and how they react to music is very fascinating.\n",
    "\n",
    "**Null Hypothesis**: There is NO STATISTICALLY SIGNIFICANT RELATIONSHIP between the effect of music on one's mental health and the severity of one's OCD.\n",
    "\n",
    "**Alternate Hypothesis**: There is A STATISTICALLY SIGNIFCANT RELATIONSHIP between the effect of music on one's mental health and the severity of one's OCD.\n",
    "\n",
    "We decided on an ANOVA test to determine whether or not to reject the null hypothesis with a sigificance level of 0.05"
   ]
  },
  {
   "cell_type": "code",
   "execution_count": 18,
   "metadata": {
    "colab": {
     "base_uri": "https://localhost:8080/",
     "height": 489
    },
    "id": "f0ZSfVrH-OZf",
    "outputId": "0243eae2-e58a-45db-fec6-b9bf478335e6"
   },
   "outputs": [
    {
     "name": "stdout",
     "output_type": "stream",
     "text": [
      "0.20698268500830352\n"
     ]
    },
    {
     "data": {
      "image/png": "[encoded data removed]",
      "text/plain": [
       "<Figure size 640x480 with 1 Axes>"
      ]
     },
     "metadata": {},
     "output_type": "display_data"
    }
   ],
   "source": [
    "grouped = df.groupby('Music effects')\n",
    "improve = grouped.get_group('Improve')\n",
    "none = grouped.get_group('No effect')\n",
    "worsen = grouped.get_group('Worsen')\n",
    "\n",
    "result = stats.f_oneway(improve['OCD'], none['OCD'], worsen['OCD'])\n",
    "print(result.pvalue)\n",
    "\n",
    "plt.boxplot([improve['OCD'], none['OCD'], worsen['OCD']], labels=['Improve', 'No effect', 'Worsen'])\n",
    "plt.xlabel('Music Effect')\n",
    "plt.ylabel('Reported OCD Level')\n",
    "plt.title('Relationship between Music Effect and Reported OCD Severity')\n",
    "plt.grid(True)\n",
    "\n",
    "plt.show()"
   ]
  },
  {
   "cell_type": "markdown",
   "metadata": {},
   "source": [
    "### Feature Engineering\n",
    "\n"
   ]
  },
  {
   "cell_type": "markdown",
   "metadata": {},
   "source": [
    "The ultimate goal of this project is to explore how music can positively impact mental health. Following our exploratory analysis, we determined that the best approach would be to design a system capable of analyzing an individual's mental health profile and recommending specific music genres that could improve their well-being. To achieve this, we focused on feature engineering to transform our dataset into a format suitable for training a machine learning model, ensuring it could accurately identify and suggest the most beneficial genres."
   ]
  },
  {
   "cell_type": "markdown",
   "metadata": {},
   "source": [
    "We decided that the best approach for our recommendation system was to use a Decision Tree Classifier model. One major challenge we aimed to address was overfitting, which could arise due to the wide range of values in the mental health features, scaled from 1.0 to 10.0. To mitigate this, we categorized these features into three groups: low, medium, and high, represented numerically as 0, 1, and 2. This transformation was handled by our `categorize_health` function. \n",
    "\n",
    "Additionally, we set a maximum depth of 5 for the decision tree to further reduce the risk of overfitting. We also standardized the \"Frequency ['genre']\" features by converting them into a scale from 0 to 3, where 'Never' is 0, 'Rarely' is 1, 'Sometimes' is 2, and 'Very frequently' is 3. This categorization was implemented using our `categorize_frequency` function. These preprocessing steps ensured the model was better equipped to generalize and provide meaningful recommendations."
   ]
  },
  {
   "cell_type": "markdown",
   "metadata": {},
   "source": [
    "To ensure our model focuses solely on the most relevant data, we limited its inputs to genre frequencies and mental health levels. By dropping all other columns, we eliminated potential noise and distractions, allowing the model to concentrate exclusively on the features that directly impact its predictions. This streamlined approach helps improve the model's accuracy and interpretability."
   ]
  },
  {
   "cell_type": "markdown",
   "metadata": {},
   "source": [
    "All of these preprocessing steps are encapsulated within the `prepare_data` function, which takes in our dataset and converts it into the proper format. This function streamlines the entire process, ensuring the data is ready for training and optimized for accurate model performance."
   ]
  },
  {
   "cell_type": "code",
   "execution_count": 19,
   "metadata": {},
   "outputs": [],
   "source": [
    "from sklearn.tree import DecisionTreeClassifier\n",
    "from sklearn.model_selection import train_test_split\n",
    "from sklearn.preprocessing import LabelEncoder\n",
    "from sklearn.metrics import classification_report, confusion_matrix\n",
    "\n",
    "def categorize_health(num):\n",
    "        if num >= 0 and num < 4:\n",
    "            return '0'\n",
    "        elif num >= 4 and num < 7:\n",
    "            return '1'\n",
    "        elif num >= 7 and num <= 10:\n",
    "            return '2'\n",
    "        else:\n",
    "            return 'invalid'\n",
    "\n",
    "def categorize_frequency(frequency):\n",
    "    match frequency:\n",
    "        case 'Never':\n",
    "            return 0\n",
    "        case 'Rarely':\n",
    "            return 1\n",
    "        case 'Sometimes':\n",
    "            return 2\n",
    "        case 'Very frequently':\n",
    "            return 3\n",
    "        case _:\n",
    "            return 'invalid'\n",
    "\n",
    "df = df.drop(columns=['Timestamp', 'Age', 'Primary streaming service', 'Hours per day', 'While working', 'Instrumentalist', 'Composer', 'Fav genre', 'Exploratory','Foreign languages', 'BPM'])\n",
    "\n",
    "health_columns = ['Anxiety', 'Depression', 'Insomnia', 'OCD']\n",
    "genre_columns = list(df.columns.drop(health_columns).drop('Music effects'))\n",
    "\n",
    "def prepare_data(df):\n",
    "    \n",
    "    for col in health_columns:\n",
    "        df[col] = df[col].apply(categorize_health)\n",
    "    \n",
    "    for col in genre_columns:\n",
    "        df[col] = df[col].apply(categorize_frequency)\n",
    "    \n",
    "\n",
    "    return df\n",
    "\n",
    "# new_df = prepare_data(df)\n",
    "# new_df"
   ]
  },
  {
   "cell_type": "markdown",
   "metadata": {},
   "source": [
    "The next section of code introduces a robust framework for evaluating and recommending music genres based on their effectiveness in improving mental health, perfectly aligning with the goals of our project. By leveraging two primary functions—`calculate_genre_effectiveness` and `target_genre`—this script helps us translate listening habits and outcomes into actionable recommendations.\n",
    "\n",
    "### The Role of `calculate_genre_effectiveness`\n",
    "The `calculate_genre_effectiveness` function systematically evaluates how impactful each genre is in improving mental health by analyzing listening frequencies and self-reported outcomes. Here’s how it operates:\n",
    "1. **Setting Up Metrics:** A dictionary, `genre_scores`, is initialized to track two key metrics for each genre: the total frequency of listening and the frequency specifically associated with reported mental health improvements.\n",
    "2. **Iterative Processing:** The function iterates through each row of the dataset, adding listening frequencies to the appropriate counters whenever the individual reports that music \"Improved\" their mental health.\n",
    "3. **Effectiveness Ratio:** After processing the data, it calculates an effectiveness ratio for each genre by dividing the \"improved\" frequency by the total frequency. This ratio quantifies how likely a genre is to contribute to positive mental health outcomes.\n",
    "\n",
    "This function is crucial because it transforms raw data into quantifiable measures of genre effectiveness, providing a solid foundation for data-driven recommendations.\n",
    "\n",
    "### The Role of `target_genre`\n",
    "The `target_genre` function builds on the effectiveness scores by determining the best genre recommendation for a specific individual. Here’s a breakdown:\n",
    "1. **Initial Filter:** If the individual’s data does not indicate that music improves their mental health, the function immediately returns `None` since no recommendation is relevant.\n",
    "2. **Calculating Scores:** For each genre, the function calculates a \"total effectiveness score\" by multiplying the individual’s listening frequency by the effectiveness score of the genre. This ensures the recommendation reflects both personal listening habits and broader trends.\n",
    "3. **Selecting the Best Genre:** The function identifies the genre with the highest total effectiveness score, providing a tailored recommendation for the individual.\n",
    "\n",
    "This function personalizes the insights generated by the first function, offering recommendations that balance individual preferences with effectiveness data.\n",
    "\n",
    "### Relevance to the Project\n",
    "These functions are central to our goal of linking music to mental health improvement. The `calculate_genre_effectiveness` function allows us to determine which genres have the most positive impact on mental health across the dataset, while `target_genre` customizes this information for each person. Together, they enable us to go beyond general observations and deliver personalized suggestions.\n",
    "\n",
    "### Practical Applications and Insights\n",
    "When applied to our dataset, this approach allows us to identify which genres, such as jazz, classical, or rock, have the highest likelihood of improving mental health. For example, if the data shows that classical music frequently correlates with positive mental health outcomes, it would be recommended to individuals who listen to it often.\n",
    "\n",
    "Ultimately, these functions exemplify how we blend statistical rigor with practical application, creating a tool that leverages data to personalize mental health improvements through music. This methodology not only deepens our understanding but also provides a meaningful way to help individuals through music-based interventions."
   ]
  },
  {
   "cell_type": "code",
   "execution_count": 12,
   "metadata": {},
   "outputs": [],
   "source": [
    "def calculate_genre_effectiveness(df, genre_columns):\n",
    "    genre_scores = {}\n",
    "    for col in genre_columns:\n",
    "        genre_scores[col] = {'improved': 0, 'total': 0}\n",
    "    \n",
    "    for row in df.iloc:\n",
    "        for col in genre_columns:\n",
    "            frequency = row[col]\n",
    "            \n",
    "            if row['Music effects'] == 'Improve':\n",
    "                genre_scores[col]['improved'] += frequency\n",
    "            genre_scores[col]['total'] += frequency\n",
    "    \n",
    "    # Calculate effectiveness ratio for each genre\n",
    "    effectiveness_scores = {}\n",
    "    for genre, scores in genre_scores.items():\n",
    "        effectiveness_scores[genre] = max(0, scores['improved'] / scores['total'])\n",
    "            \n",
    "    return effectiveness_scores\n",
    "\n",
    "def target_genre(row, genre_columns, genre_effectiveness):\n",
    "    if row['Music effects'] != 'Improve':\n",
    "        return None\n",
    "    \n",
    "    # Calculate a score for each genre combining frequency and effectiveness\n",
    "    best_genre = None\n",
    "    best_effectiveness = 0\n",
    "    for col in genre_columns:\n",
    "        frequency = row[col]\n",
    "        g_effectiveness = genre_effectiveness[col]\n",
    "        total_effectiveness = frequency * g_effectiveness\n",
    "        # print(col)\n",
    "        # print(frequency)\n",
    "        # print(g_effectiveness)\n",
    "\n",
    "        if (total_effectiveness > best_effectiveness) or best_genre == None:\n",
    "            best_genre = col\n",
    "            best_effectiveness = total_effectiveness\n",
    "    return best_genre\n",
    "\n",
    "# e = calculate_genre_effectiveness(new_df, genre_columns)\n",
    "# print(target_genre(new_df.iloc[6], genre_columns, e))"
   ]
  },
  {
   "cell_type": "markdown",
   "metadata": {},
   "source": [
    "### Primary Analysis\n",
    "\n",
    "The next code section represents the core of our machine learning analysis, transforming exploratory insights into a functional recommendation system. By using a Decision Tree Classifier, the script predicts the music genres most likely to improve an individual's mental health based on their profile. Here's a breakdown of the process:\n",
    "\n",
    "### Context and Approach\n",
    "We chose classification for this task to categorize individuals into specific genres that could improve their mental health. A Decision Tree Classifier was selected for its simplicity and interpretability, making it ideal for linking mental health metrics to genre recommendations.\n",
    "\n",
    "### Key Steps In Using A Recommender\n",
    "1. **Data Preparation:** The `prepare_data` function preprocesses the dataset, ensuring it is clean and standardized for analysis.\n",
    "2. **Genre Effectiveness Scores:** Using `calculate_genre_effectiveness`, we compute the impact of each genre on mental health, forming the foundation for recommendations.\n",
    "3. **Target Variable Creation:** The `target_genre` function identifies the genre most likely to improve mental health for each individual, with non-applicable rows removed to ensure data quality.\n",
    "4. **Feature and Target Sets:** Mental health metrics (`Anxiety`, `Depression`, etc.) are used as features (`X`), while the target variable (`y`) represents the recommended genre.\n",
    "5. **Data Encoding and Splitting:** Genres are encoded numerically, and the data is split into training and testing sets for model development and evaluation.\n",
    "6. **Model Training and Evaluation:** A Decision Tree Classifier with a depth limit of 5 is trained on the data, with performance assessed using a classification report.\n",
    "\n",
    "### Relevance and Impact\n",
    "This function bridges exploratory analysis and actionable insights, enabling personalized genre recommendations based on mental health profiles. The classification approach ensures that predictions are data-driven and interpretable. The model evaluation further validates its ability to generalize effectively, laying the groundwork for meaningful interventions.\n",
    "\n",
    "This streamlined process delivers a robust, personalized system that uses data to connect music and mental health in a practical and impactful way."
   ]
  },
  {
   "cell_type": "code",
   "execution_count": 13,
   "metadata": {},
   "outputs": [
    {
     "ename": "NameError",
     "evalue": "name 'health_columns' is not defined",
     "output_type": "error",
     "traceback": [
      "\u001b[0;31m---------------------------------------------------------------------------\u001b[0m",
      "\u001b[0;31mNameError\u001b[0m                                 Traceback (most recent call last)",
      "Cell \u001b[0;32mIn[13], line 38\u001b[0m\n\u001b[1;32m     35\u001b[0m     \u001b[38;5;28mprint\u001b[39m(classification_report(y_test, y_pred))\n\u001b[1;32m     37\u001b[0m     \u001b[38;5;28;01mreturn\u001b[39;00m model, le\n\u001b[0;32m---> 38\u001b[0m model, le \u001b[38;5;241m=\u001b[39m create_genre_recommender(df)\n",
      "Cell \u001b[0;32mIn[13], line 3\u001b[0m, in \u001b[0;36mcreate_genre_recommender\u001b[0;34m(df)\u001b[0m\n\u001b[1;32m      1\u001b[0m \u001b[38;5;28;01mdef\u001b[39;00m \u001b[38;5;21mcreate_genre_recommender\u001b[39m(df):\n\u001b[1;32m      2\u001b[0m     \u001b[38;5;66;03m# Prepare the data\u001b[39;00m\n\u001b[0;32m----> 3\u001b[0m     df \u001b[38;5;241m=\u001b[39m prepare_data(df)\n\u001b[1;32m      5\u001b[0m     \u001b[38;5;66;03m# Calculate genre effectiveness scores\u001b[39;00m\n\u001b[1;32m      6\u001b[0m     genre_effectiveness \u001b[38;5;241m=\u001b[39m calculate_genre_effectiveness(df, genre_columns)\n",
      "Cell \u001b[0;32mIn[11], line 31\u001b[0m, in \u001b[0;36mprepare_data\u001b[0;34m(df)\u001b[0m\n\u001b[1;32m     29\u001b[0m \u001b[38;5;28;01mdef\u001b[39;00m \u001b[38;5;21mprepare_data\u001b[39m(df):\n\u001b[0;32m---> 31\u001b[0m     \u001b[38;5;28;01mfor\u001b[39;00m col \u001b[38;5;129;01min\u001b[39;00m health_columns:\n\u001b[1;32m     32\u001b[0m         df[col] \u001b[38;5;241m=\u001b[39m df[col]\u001b[38;5;241m.\u001b[39mapply(categorize_health)\n\u001b[1;32m     34\u001b[0m     \u001b[38;5;28;01mfor\u001b[39;00m col \u001b[38;5;129;01min\u001b[39;00m genre_columns:\n",
      "\u001b[0;31mNameError\u001b[0m: name 'health_columns' is not defined"
     ]
    }
   ],
   "source": [
    "def create_genre_recommender(df):\n",
    "    # Prepare the data\n",
    "    df = prepare_data(df)\n",
    "    \n",
    "    # Calculate genre effectiveness scores\n",
    "    genre_effectiveness = calculate_genre_effectiveness(df, genre_columns)\n",
    "    \n",
    "    # Create target variable (genre that helped improve mental health)\n",
    "    df['target_genre'] = df.apply(\n",
    "        lambda row: target_genre(row, genre_columns, genre_effectiveness), \n",
    "        axis=1\n",
    "    )\n",
    "    \n",
    "    # Remove rows where we couldn't determine a target genre\n",
    "    df = df.dropna(subset=['target_genre'])\n",
    "    \n",
    "    # Create feature set\n",
    "    X = df[['Anxiety', 'Depression', 'Insomnia', 'OCD']]\n",
    "    y = df['target_genre']\n",
    "    \n",
    "    # Encode the target variable\n",
    "    le = LabelEncoder()\n",
    "    y = le.fit_transform(y)\n",
    "    \n",
    "    # Split the data\n",
    "    X_train, X_test, y_train, y_test = train_test_split(X, y, test_size=0.2, random_state=42)\n",
    "    \n",
    "    # Create and train the model\n",
    "    model = DecisionTreeClassifier(random_state=42, max_depth=5)\n",
    "    model.fit(X_train, y_train)\n",
    "    \n",
    "    # Evaluate the model\n",
    "    y_pred = model.predict(X_test)\n",
    "    print(\"Model Performance:\")\n",
    "    print(classification_report(y_test, y_pred))\n",
    "    \n",
    "    return model, le\n",
    "model, le = create_genre_recommender(df)"
   ]
  },
  {
   "cell_type": "markdown",
   "metadata": {},
   "source": [
    "### Model Performance Analysis\n",
    "\n",
    "Based on this classification report, we can see the model performed pretty poorly all around. The overal accurracy for this was just 14%. For the specific genres, many of these had precision scores of 0. There are many potential issues that could have caused these inaccuracies. The major problem we believe most likely let to this was the data itself. The reason we believe this is mainly because of the insights we gained from the exploratory analysis. We did not see much correlation between music genres and mental health, and this leads us to believe the mental health levels of a person and their taste in music might not be associated at all, and simply just personal preferences."
   ]
  },
  {
   "cell_type": "markdown",
   "metadata": {},
   "source": [
    "***AT THIS POINT WE HAVE CREATED THE GENRE RECCOMENDER AND NOW WE CAN START PREDICTING OUTCOMES!!!***"
   ]
  },
  {
   "cell_type": "markdown",
   "metadata": {},
   "source": [
    "![A little meme to engage the reader](ANOTHER_320_MEME.png)"
   ]
  },
  {
   "cell_type": "markdown",
   "metadata": {},
   "source": [
    "The `recommend_genre` function predicts the best music genre to improve mental health based on individual scores for anxiety, depression, insomnia, and OCD. Here’s how it works:\n",
    "\n",
    "1. **Process Inputs:** Mental health scores (0-10) are categorized into low, medium, or high using `categorize_health`.\n",
    "2. **Model Prediction:** The categorized inputs are passed to the trained Decision Tree Classifier to predict a genre index.\n",
    "3. **Decode Genre:** The `LabelEncoder` converts the numeric index back to the genre name for user-friendly output.\n",
    "\n",
    "The print statements test the function across various scenarios, such as all scores at 0, maximum scores for individual metrics, or mixed scores. These tests showcase the model’s ability to tailor recommendations to diverse mental health profiles, turning data-driven insights into actionable suggestions."
   ]
  },
  {
   "cell_type": "code",
   "execution_count": null,
   "metadata": {},
   "outputs": [
    {
     "name": "stdout",
     "output_type": "stream",
     "text": [
      "reccomended genre for all 0s:\n",
      "Pop\n",
      "reccomended genre for max anxiety:\n",
      "K pop\n",
      "reccomended genre for max depression:\n",
      "R&B\n",
      "reccomended genre for max insomnia:\n",
      "Lofi\n",
      "reccomended genre for max ocd:\n",
      "R&B\n",
      "reccomended genre for all 10s:\n",
      "Pop\n",
      "reccomended genre for 10 anxiety and 10 depression:\n",
      "Rock\n",
      "reccomended genre for 10 insomnia and 10 ocd:\n",
      "R&B\n",
      "reccomended genre all 5s:\n",
      "R&B\n",
      "reccomended genre all 3s:\n",
      "Pop\n",
      "reccomended genre all 8s:\n",
      "Pop\n",
      "reccomended genre mix:\n",
      "R&B\n"
     ]
    },
    {
     "name": "stderr",
     "output_type": "stream",
     "text": [
      "/opt/anaconda3/lib/python3.11/site-packages/sklearn/base.py:439: UserWarning: X does not have valid feature names, but DecisionTreeClassifier was fitted with feature names\n",
      "  warnings.warn(\n",
      "/opt/anaconda3/lib/python3.11/site-packages/sklearn/base.py:439: UserWarning: X does not have valid feature names, but DecisionTreeClassifier was fitted with feature names\n",
      "  warnings.warn(\n",
      "/opt/anaconda3/lib/python3.11/site-packages/sklearn/base.py:439: UserWarning: X does not have valid feature names, but DecisionTreeClassifier was fitted with feature names\n",
      "  warnings.warn(\n",
      "/opt/anaconda3/lib/python3.11/site-packages/sklearn/base.py:439: UserWarning: X does not have valid feature names, but DecisionTreeClassifier was fitted with feature names\n",
      "  warnings.warn(\n",
      "/opt/anaconda3/lib/python3.11/site-packages/sklearn/base.py:439: UserWarning: X does not have valid feature names, but DecisionTreeClassifier was fitted with feature names\n",
      "  warnings.warn(\n",
      "/opt/anaconda3/lib/python3.11/site-packages/sklearn/base.py:439: UserWarning: X does not have valid feature names, but DecisionTreeClassifier was fitted with feature names\n",
      "  warnings.warn(\n",
      "/opt/anaconda3/lib/python3.11/site-packages/sklearn/base.py:439: UserWarning: X does not have valid feature names, but DecisionTreeClassifier was fitted with feature names\n",
      "  warnings.warn(\n",
      "/opt/anaconda3/lib/python3.11/site-packages/sklearn/base.py:439: UserWarning: X does not have valid feature names, but DecisionTreeClassifier was fitted with feature names\n",
      "  warnings.warn(\n",
      "/opt/anaconda3/lib/python3.11/site-packages/sklearn/base.py:439: UserWarning: X does not have valid feature names, but DecisionTreeClassifier was fitted with feature names\n",
      "  warnings.warn(\n",
      "/opt/anaconda3/lib/python3.11/site-packages/sklearn/base.py:439: UserWarning: X does not have valid feature names, but DecisionTreeClassifier was fitted with feature names\n",
      "  warnings.warn(\n",
      "/opt/anaconda3/lib/python3.11/site-packages/sklearn/base.py:439: UserWarning: X does not have valid feature names, but DecisionTreeClassifier was fitted with feature names\n",
      "  warnings.warn(\n",
      "/opt/anaconda3/lib/python3.11/site-packages/sklearn/base.py:439: UserWarning: X does not have valid feature names, but DecisionTreeClassifier was fitted with feature names\n",
      "  warnings.warn(\n"
     ]
    }
   ],
   "source": [
    "# anxiety, depression, insomnia, and OCD must all inputs on a scale from 0 to 10\n",
    "def recommend_genre(model, label_encoder, anxiety, depression, insomnia, ocd):\n",
    "    \n",
    "    # Create input features\n",
    "    features = [[categorize_health(anxiety), categorize_health(depression), \n",
    "                 categorize_health(insomnia), categorize_health(ocd)]]\n",
    "    \n",
    "    # Make prediction\n",
    "    genre_idx = model.predict(features)\n",
    "    recommended_genre = label_encoder.inverse_transform(genre_idx)\n",
    "    \n",
    "    return recommended_genre[0]\n",
    "\n",
    "print('reccomended genre for all 0s:')\n",
    "print(recommend_genre(model, le, 0, 0, 0, 0))\n",
    "print('reccomended genre for max anxiety:')\n",
    "print(recommend_genre(model, le, 10, 0, 0, 0))\n",
    "print('reccomended genre for max depression:')\n",
    "print(recommend_genre(model, le, 0, 10, 0, 0))\n",
    "print('reccomended genre for max insomnia:')\n",
    "print(recommend_genre(model, le, 0, 0, 10, 0))\n",
    "print('reccomended genre for max ocd:')\n",
    "print(recommend_genre(model, le, 0, 0, 0, 10))\n",
    "print('reccomended genre for all 10s:')\n",
    "print(recommend_genre(model, le, 10, 10, 10, 10))\n",
    "print('reccomended genre for 10 anxiety and 10 depression:')\n",
    "print(recommend_genre(model, le, 10, 10, 0, 0))\n",
    "print('reccomended genre for 10 insomnia and 10 ocd:')\n",
    "print(recommend_genre(model, le, 0, 0, 10, 10))\n",
    "print('reccomended genre all 5s:')\n",
    "print(recommend_genre(model, le, 5, 5, 5, 5))\n",
    "print('reccomended genre all 3s:')\n",
    "print(recommend_genre(model, le, 3, 3, 3, 3))\n",
    "print('reccomended genre all 8s:')\n",
    "print(recommend_genre(model, le, 8, 8, 8, 8))\n",
    "print('reccomended genre mix:')\n",
    "print(recommend_genre(model, le, 10, 5, 10, 5))\n"
   ]
  },
  {
   "cell_type": "markdown",
   "metadata": {},
   "source": [
    "### Visualization"
   ]
  },
  {
   "cell_type": "markdown",
   "metadata": {},
   "source": [
    "Data visualization is a crucial part of any machine learning project. It helps us interpret complex models and communicate their inner workings effectively. In our project, visualizing the Decision Tree model allows us to better understand how it makes recommendations, providing transparency and interpretability. By examining the structure of the tree, we can see how the model splits on different mental health features (e.g., Anxiety, Depression) and how it maps these inputs to specific music genres.\n",
    "\n",
    "Visualizing the Decision Tree\n",
    "To make the model’s logic more transparent, we used the plot_tree function from sklearn.tree to create a detailed visualization of the Decision Tree:\n",
    "\n",
    "Feature Splits: Each node in the tree represents a decision based on one of the mental health metrics. For instance, the tree might split on whether anxiety is \"low,\" \"medium,\" or \"high,\" using this information to narrow down genre recommendations.\n",
    "Leaf Nodes: These are the endpoints of the tree, where final genre predictions are made.\n",
    "Color Coding: Each node is color-coded to indicate the genre class, providing a clear visual distinction between different predictions.\n",
    "Legend: A legend is added to explain the color mapping of genres, enhancing readability and interpretability."
   ]
  },
  {
   "cell_type": "code",
   "execution_count": 14,
   "metadata": {},
   "outputs": [
    {
     "ename": "NameError",
     "evalue": "name 'model' is not defined",
     "output_type": "error",
     "traceback": [
      "\u001b[0;31m---------------------------------------------------------------------------\u001b[0m",
      "\u001b[0;31mNameError\u001b[0m                                 Traceback (most recent call last)",
      "Cell \u001b[0;32mIn[14], line 6\u001b[0m\n\u001b[1;32m      3\u001b[0m plt\u001b[38;5;241m.\u001b[39mfigure(figsize\u001b[38;5;241m=\u001b[39m(\u001b[38;5;241m100\u001b[39m, \u001b[38;5;241m50\u001b[39m))\n\u001b[1;32m      5\u001b[0m \u001b[38;5;66;03m# Create the tree visualization\u001b[39;00m\n\u001b[0;32m----> 6\u001b[0m plot_tree(model, \n\u001b[1;32m      7\u001b[0m         feature_names\u001b[38;5;241m=\u001b[39mhealth_columns,\n\u001b[1;32m      8\u001b[0m         class_names\u001b[38;5;241m=\u001b[39mgenre_columns,\n\u001b[1;32m      9\u001b[0m         filled\u001b[38;5;241m=\u001b[39m\u001b[38;5;28;01mTrue\u001b[39;00m,\n\u001b[1;32m     10\u001b[0m         rounded\u001b[38;5;241m=\u001b[39m\u001b[38;5;28;01mTrue\u001b[39;00m,\n\u001b[1;32m     11\u001b[0m         fontsize\u001b[38;5;241m=\u001b[39m\u001b[38;5;241m10\u001b[39m,\n\u001b[1;32m     12\u001b[0m         max_depth\u001b[38;5;241m=\u001b[39m\u001b[38;5;241m5\u001b[39m)\n\u001b[1;32m     15\u001b[0m plt\u001b[38;5;241m.\u001b[39mtitle(\u001b[38;5;124m\"\u001b[39m\u001b[38;5;124mDecision Tree for Music Genre Recommendations\u001b[39m\u001b[38;5;124m\"\u001b[39m, pad\u001b[38;5;241m=\u001b[39m\u001b[38;5;241m20\u001b[39m, fontsize\u001b[38;5;241m=\u001b[39m\u001b[38;5;241m16\u001b[39m)\n\u001b[1;32m     17\u001b[0m \u001b[38;5;66;03m# Add legend\u001b[39;00m\n",
      "\u001b[0;31mNameError\u001b[0m: name 'model' is not defined"
     ]
    },
    {
     "data": {
      "text/plain": [
       "<Figure size 10000x5000 with 0 Axes>"
      ]
     },
     "metadata": {},
     "output_type": "display_data"
    }
   ],
   "source": [
    "from sklearn.tree import plot_tree\n",
    "\n",
    "plt.figure(figsize=(100, 50))\n",
    "\n",
    "# Create the tree visualization\n",
    "plot_tree(model, \n",
    "        feature_names=health_columns,\n",
    "        class_names=genre_columns,\n",
    "        filled=True,\n",
    "        rounded=True,\n",
    "        fontsize=10,\n",
    "        max_depth=5)\n",
    "\n",
    "    \n",
    "plt.title(\"Decision Tree for Music Genre Recommendations\", pad=20, fontsize=16)\n",
    "    \n",
    "# Add legend\n",
    "colors = plt.cm.RdYlBu(np.linspace(0, 1, len(genre_columns)))\n",
    "patches = [plt.Rectangle((0,0),1,1, facecolor=color) for color in colors]\n",
    "plt.legend(patches, genre_columns, title=\"Genres\", \n",
    "        loc=\"upper right\", bbox_to_anchor=(1, 1), prop={'size':30})\n",
    "plt.show()"
   ]
  },
  {
   "cell_type": "markdown",
   "metadata": {},
   "source": [
    "### Insights and Conclusions"
   ]
  },
  {
   "cell_type": "markdown",
   "metadata": {},
   "source": [
    "At this point we have completed the ML-based exploration and analysis of our dataset. Looking at our model's classification report and some sample tests, it seems as if the model may not have performed as well as we inititally expected. Coming into this project, we believed music and mental health would be more closely related to each other, but seeing these results, it seems as if we were mistaken. While it appears there small association, at the end of the day, a person's music preference is very dependent on the person themselves and their personalities. The current state of one's mental health plays less of a role in their music taste than we initially expected. \n",
    "\n",
    "This project was very insightful for us and gave us the opportunity to somewhat disprove a preconceived notion we may have had before taking on this challenge. "
   ]
  },
  {
   "cell_type": "markdown",
   "metadata": {},
   "source": [
    "### ***Model Performance***"
   ]
  },
  {
   "cell_type": "markdown",
   "metadata": {},
   "source": [
    "![Model Performance](MODEL_PERFORMANCE.png)"
   ]
  },
  {
   "cell_type": "markdown",
   "metadata": {},
   "source": [
    "### ***Insights***"
   ]
  },
  {
   "cell_type": "markdown",
   "metadata": {},
   "source": [
    "![Model Performance](INSIGHTS.png)"
   ]
  },
  {
   "cell_type": "markdown",
   "metadata": {},
   "source": [
    "![Thank You](THANKS.png)"
   ]
  }
 ],
 "metadata": {
  "colab": {
   "provenance": []
  },
  "kernelspec": {
   "display_name": "base",
   "language": "python",
   "name": "python3"
  },
  "language_info": {
   "codemirror_mode": {
    "name": "ipython",
    "version": 3
   },
   "file_extension": ".py",
   "mimetype": "text/x-python",
   "name": "python",
   "nbconvert_exporter": "python",
   "pygments_lexer": "ipython3",
   "version": "3.11.7"
  }
 },
 "nbformat": 4,
 "nbformat_minor": 0
}
